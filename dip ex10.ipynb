{
 "cells": [
  {
   "cell_type": "code",
   "execution_count": 1,
   "id": "58825eb4",
   "metadata": {},
   "outputs": [],
   "source": [
    "# Import the necessary packages\n",
    "import cv2\n",
    "import numpy as np\n",
    "import matplotlib.pyplot as plt"
   ]
  },
  {
   "cell_type": "code",
   "execution_count": 2,
   "id": "8437a8dd",
   "metadata": {},
   "outputs": [],
   "source": [
    "# Create the Text using cv2.putText\n",
    "text_image = np.zeros((100,440),dtype = 'uint8')\n",
    "img=cv2.cvtColor(text_image,cv2.COLOR_BGR2RGB)\n",
    "font = cv2.FONT_HERSHEY_SIMPLEX = 3\n",
    "cv2.putText(img,\"Sangeetha.K\",(5,70),font,2,(255, 229, 180),5,cv2.LINE_AA)\n",
    "cv2.imshow(\"Original Image\",img)\n",
    "cv2.waitKey(0)\n",
    "cv2.destroyAllWindows()"
   ]
  },
  {
   "cell_type": "code",
   "execution_count": 3,
   "id": "c40201da",
   "metadata": {},
   "outputs": [],
   "source": [
    "# Create the structuring element\n",
    "kernel = cv2.getStructuringElement(cv2.MORPH_CROSS,(7,7))"
   ]
  },
  {
   "cell_type": "code",
   "execution_count": 4,
   "id": "de25fdea",
   "metadata": {},
   "outputs": [],
   "source": [
    "# Erode the image\n",
    "erodeimg = cv2.erode(img,kernel)\n",
    "cv2.imshow(\"Eroded Image\",erodeimg)\n",
    "cv2.waitKey(0)\n",
    "cv2.destroyAllWindows()"
   ]
  },
  {
   "cell_type": "code",
   "execution_count": null,
   "id": "4785adb0",
   "metadata": {},
   "outputs": [],
   "source": [
    "# Dilate the image\n",
    "dilateimg = cv2.dilate(img,kernel)\n",
    "cv2.imshow(\"Dilated Image\",dilateimg)\n",
    "cv2.waitKey(0)\n",
    "cv2.destroyAllWindows()"
   ]
  },
  {
   "cell_type": "code",
   "execution_count": null,
   "id": "4751af73",
   "metadata": {},
   "outputs": [],
   "source": []
  },
  {
   "cell_type": "code",
   "execution_count": null,
   "id": "19216752",
   "metadata": {},
   "outputs": [],
   "source": []
  }
 ],
 "metadata": {
  "kernelspec": {
   "display_name": "Python 3",
   "language": "python",
   "name": "python3"
  },
  "language_info": {
   "codemirror_mode": {
    "name": "ipython",
    "version": 3
   },
   "file_extension": ".py",
   "mimetype": "text/x-python",
   "name": "python",
   "nbconvert_exporter": "python",
   "pygments_lexer": "ipython3",
   "version": "3.8.8"
  }
 },
 "nbformat": 4,
 "nbformat_minor": 5
}
